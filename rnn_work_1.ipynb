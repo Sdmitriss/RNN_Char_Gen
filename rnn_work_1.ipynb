{
 "cells": [
  {
   "cell_type": "markdown",
   "id": "f803735d-ac5c-4462-9d3e-59db81f0d014",
   "metadata": {},
   "source": [
    "## Генерация текста с помощью символьной RNN.\n"
   ]
  },
  {
   "cell_type": "markdown",
   "id": "10489253-79ca-468e-98fb-f15199a1462c",
   "metadata": {},
   "source": [
    "Задача: научиться генерировать текст помощью простой рекуррентной нейронной сети ( RNN).\n",
    "\n",
    "В качестве корпуса текстов для обучения будет выступать роман в стихах \"Евгений Онегин\".\n"
   ]
  },
  {
   "cell_type": "code",
   "execution_count": 4,
   "id": "73639e7e-16c6-4d3a-9e45-e4e302807518",
   "metadata": {},
   "outputs": [],
   "source": [
    "try:\n",
    "    from torchinfo import summary\n",
    "except:    \n",
    "    !pip install torchinfo\n",
    "    from torchinfo import summary\n",
    "\n",
    "import os\n",
    "import random\n",
    "from collections import Counter\n",
    "from tqdm import tqdm\n",
    "\n",
    "\n",
    "import time\n",
    "\n",
    "import torch\n",
    "\n",
    "from torch.utils.data import Dataset, DataLoader\n",
    "from torch import nn\n",
    "from torchvision.transforms import ToTensor, Lambda\n",
    "from torchvision.io import read_image\n",
    "import torchvision.transforms as transforms\n",
    "import torchvision.models as models\n",
    "\n",
    "from IPython.display import clear_output \n",
    "\n",
    "from sklearn.model_selection import train_test_split\n",
    "from sklearn.metrics import f1_score\n",
    "from sklearn.metrics import roc_auc_score \n",
    "from sklearn.metrics import ConfusionMatrixDisplay\n",
    "\n",
    "torch.manual_seed(17)\n",
    "RANDOM_STATE=50\n",
    "\n",
    "import numpy as  np\n",
    "import pickle\n",
    "import matplotlib.pyplot as plt"
   ]
  },
  {
   "cell_type": "markdown",
   "id": "6a48eee4-4af6-418d-84e8-d17cd443b04c",
   "metadata": {},
   "source": [
    "### 1. Загрузка  и предобработка данных."
   ]
  },
  {
   "cell_type": "code",
   "execution_count": null,
   "id": "53fb331e-7bb2-4df2-8b8b-2680cc2ba925",
   "metadata": {},
   "outputs": [],
   "source": [
    "FOR Kaggle!\n",
    "# os.makedirs('data', exist_ok=True) \n",
    "# !cp /kaggle/input/text-rnn/onegin.txt  /kaggle/working/data/"
   ]
  },
  {
   "cell_type": "code",
   "execution_count": 7,
   "id": "2642a41a-bd35-4224-905e-c718fd2cd10b",
   "metadata": {},
   "outputs": [],
   "source": [
    "# файл с текстом  находится в папке 'data' текущей директории.\n",
    "name_file='onegin.txt'"
   ]
  },
  {
   "cell_type": "code",
   "execution_count": 9,
   "id": "a0e6752f-88f3-43c5-b29d-c3146922fbaf",
   "metadata": {},
   "outputs": [
    {
     "name": "stdout",
     "output_type": "stream",
     "text": [
      "\n",
      "i\n",
      "\n",
      "«мой дядя самых честных правил,\n",
      "когда не в шутку занемог,\n",
      "он уважать себя заставил\n",
      "и лучше выдумать не мог.\n",
      "его пример другим наука;\n",
      "но, боже мой, какая скука\n",
      "с больным сидеть и день и ночь,\n",
      "не от \n",
      "\n",
      " Длина текста :  141888 символов\n"
     ]
    }
   ],
   "source": [
    "path_text =os.path.join(os.getcwd(),'data',name_file)\n",
    "\n",
    "with open(path_text, 'r', encoding='utf8') as file:\n",
    "    text=list(file)\n",
    "text = ''.join([i.replace('\\t\\t','').lower() for i in text]) #  избавимся от табуляции, приведем символы к нижнему регистру\n",
    "print(text[:200], '\\n') \n",
    "print (f' Длина текста :  {len(text)} символов')"
   ]
  },
  {
   "cell_type": "markdown",
   "id": "f147b211-4c0e-448c-9e81-072feed545ba",
   "metadata": {},
   "source": [
    "Составим  словарь токенов, в данном случае  токены - символы в тексте и добавим  токен 'sos' -start of sequntion.\n"
   ]
  },
  {
   "cell_type": "code",
   "execution_count": 10,
   "id": "c309ecc7-7c51-4420-8fd9-f35ace2db221",
   "metadata": {},
   "outputs": [
    {
     "name": "stdout",
     "output_type": "stream",
     "text": [
      "Размер словаря : 84 символа. \n",
      "\n",
      "словарь токенов: ['\\n', ' ', '!', '(', ')', ',', '-', '.', '5', '7', '8', '9', ':', ';', '?', '[', ']', '^', 'a', 'b', 'c', 'd', 'e', 'f', 'g', 'h', 'i', 'k', 'l', 'm', 'n', 'o', 'p', 'q', 'r', 's', 't', 'u', 'v', 'w', 'x', 'y', 'z', '«', '»', 'а', 'б', 'в', 'г', 'д', 'е', 'ж', 'з', 'и', 'й', 'к', 'л', 'м', 'н', 'о', 'п', 'р', 'с', 'т', 'у', 'ф', 'х', 'ц', 'ч', 'ш', 'щ', 'ъ', 'ы', 'ь', 'э', 'ю', 'я', 'ё', '–', '—', '’', '…', '€', '<sos>'] \n",
      "\n"
     ]
    }
   ],
   "source": [
    "set_character = sorted(set(text))+ ['<sos>']\n",
    "size_character=len(set_character)\n",
    "print(f'Размер словаря : {size_character} символа. \\n')\n",
    "print('словарь токенов:',set_character,'\\n')"
   ]
  },
  {
   "cell_type": "code",
   "execution_count": 11,
   "id": "dc4539b0-a252-4b90-8b2a-0d07fb9092d2",
   "metadata": {},
   "outputs": [],
   "source": [
    "# index_character  возвращает  индекс  по токену  либо токен  по индексу\n",
    "def index_character( data: str|int):\n",
    "    try:\n",
    "        if isinstance(data, int):\n",
    "            if data in  range(0, size_character):\n",
    "                return set_character[data]\n",
    "        if isinstance(data, str):\n",
    "            if data in set_character:\n",
    "                return set_character.index(data)\n",
    "        return print ('некорркектный ввод')\n",
    "    except:\n",
    "          return print ('ошибка ввода')\n",
    "            "
   ]
  },
  {
   "cell_type": "code",
   "execution_count": 12,
   "id": "ee94b40f-c9c6-4ecd-b841-8c855410eb22",
   "metadata": {},
   "outputs": [
    {
     "data": {
      "text/plain": [
       "('<sos>', 83)"
      ]
     },
     "execution_count": 12,
     "metadata": {},
     "output_type": "execute_result"
    }
   ],
   "source": [
    "index_character(83), index_character('<sos>')"
   ]
  },
  {
   "cell_type": "code",
   "execution_count": 31,
   "id": "730e66a5-d344-421a-8fae-8a3f17e414b6",
   "metadata": {},
   "outputs": [],
   "source": [
    "# генератор батча\n",
    "\n",
    "\n",
    "def gen_chunck(batch_size=50, sequen_len=100):\n",
    "    \n",
    "    '''\n",
    "     Функция - генератор:\n",
    "        принимает два парметра: sequen_len -длина  последовательности, batch_size -количество  последовательностей\n",
    "        возвращает тензор torch( batch_size*1+sequen_len)  c дополнительным  столбцом <sos>\n",
    "        токены закодированы соответствующими индексами  из словаря set_character.\n",
    "    '''\n",
    "    sos_tensor = torch.full((batch_size, 1),index_character('<sos>'), dtype=torch.int64)\n",
    "    \n",
    "    while True:\n",
    "        index_start = random.randint(0, len(text) -batch_size*sequen_len)\n",
    "        text_sequence = text [index_start : index_start + batch_size*sequen_len]\n",
    "        text_index = [index_character(x) for x in text_sequence]\n",
    "        text_tensor = torch.tensor(text_index, dtype=torch.int64).reshape(batch_size, sequen_len)\n",
    "    \n",
    "        yield torch.cat((sos_tensor, text_tensor), dim=1)\n",
    "\n",
    "    \n",
    "    "
   ]
  },
  {
   "cell_type": "code",
   "execution_count": 32,
   "id": "97a81643-1baf-4fcd-9666-a2f4d8fd6533",
   "metadata": {},
   "outputs": [],
   "source": [
    "# Инициализируем генератор батча.\n",
    "batch_size = 250\n",
    "sequen_len = 200 \n",
    "param_gen = (batch_size, sequen_len)\n",
    "\n",
    "chunck= gen_chunck(*param_gen)"
   ]
  },
  {
   "cell_type": "code",
   "execution_count": 33,
   "id": "7685626e-cd1d-4661-8d79-116790a9648f",
   "metadata": {},
   "outputs": [
    {
     "data": {
      "text/plain": [
       "(tensor([[83, 61, 45,  ..., 59, 49, 53],\n",
       "         [83, 63,  1,  ..., 55, 59,  1],\n",
       "         [83, 59, 58,  ..., 49, 53,  1],\n",
       "         ...,\n",
       "         [83, 66,  1,  ..., 76, 52, 73],\n",
       "         [83,  1, 58,  ..., 78,  1, 43],\n",
       "         [83, 58, 45,  ..., 55,  1, 62]]),\n",
       " torch.Size([250, 201]))"
      ]
     },
     "execution_count": 33,
     "metadata": {},
     "output_type": "execute_result"
    }
   ],
   "source": [
    "next(chunck), next(chunck).size()"
   ]
  },
  {
   "cell_type": "markdown",
   "id": "d0628cc2-ff02-49f9-9507-021f036746d8",
   "metadata": {},
   "source": [
    "Итоги:\n",
    "1. Загрузили  текст, первели  симоволы в нижний регистр,  удалили символы табуляции.\n",
    "2. Создали словарь токенов.\n",
    "3. Разработали функции:\n",
    "   \n",
    "index_character( data: str | int) функция - возвращает  индекс  по токену  либо токен  по индексу;<br>\n",
    "gen_chunck(batch_size=250, sequen_len=200) - функция-генератор.\n",
    "**batch_size,  sequen_len** - настраевыемые парметры.\n",
    "\n",
    "\n",
    "- text -  корпус c текстом,  тип данных -str;\n",
    "- set_character -  список с  отсортированными  уникальными токенами, в дальнейшем  словарь токенов;\n",
    "- size_character - размер словаря токенов;\n",
    "- chunck -инициализированая функция генератор(возвращает тензор  размером( batch_size, sequen_len+1),\n",
    "                                               с индексами токенов и добавлением  столбца 'sos')."
   ]
  },
  {
   "cell_type": "markdown",
   "id": "72de2ebe-1bbe-46f8-a16e-f88878fc87d2",
   "metadata": {},
   "source": [
    "### 2 Подготовка данных."
   ]
  },
  {
   "cell_type": "markdown",
   "id": "338b1934-219c-423b-850c-930a47bb1e3d",
   "metadata": {},
   "source": [
    "Для обучения модели необходимо подготовить два тензора: тензор признаков и тензор целевых значений. Каждый символ в обучающей выборке будет служить входом, а модель будет предсказывать следующий символ, таким образом, задача сводится к предсказанию следующего элемента последовательности на основе предыдущего.\n",
    "Пример: \n",
    "- abcdef -последовательность\n",
    "- abcde -feature bcdef -target\n",
    "Напомним next(chunck)  генерирует  тензор последовательностей символов  размером   (batch_size х sequen_len) + column  c  токеном 'sos'."
   ]
  },
  {
   "cell_type": "code",
   "execution_count": 34,
   "id": "3bd0bc5f-1272-4b72-8c15-2c03410deb2c",
   "metadata": {},
   "outputs": [
    {
     "data": {
      "text/plain": [
       "tensor([[83, 61, 50,  ..., 61, 50, 63],\n",
       "        [83,  1, 47,  ..., 56, 64, 46],\n",
       "        [83, 55, 45,  ..., 40, 38, 26],\n",
       "        ...,\n",
       "        [83, 58, 72,  ..., 45,  1, 52],\n",
       "        [83, 45, 46,  ...,  1, 68, 63],\n",
       "        [83, 59,  1,  ..., 60, 72, 66]])"
      ]
     },
     "execution_count": 34,
     "metadata": {},
     "output_type": "execute_result"
    }
   ],
   "source": [
    "next(chunck)"
   ]
  },
  {
   "cell_type": "code",
   "execution_count": 35,
   "id": "95f6466a-2ca5-4e9a-b0e8-ee6c51a20eec",
   "metadata": {},
   "outputs": [
    {
     "name": "stdout",
     "output_type": "stream",
     "text": [
      "Using cpu device\n"
     ]
    }
   ],
   "source": [
    "device = (\n",
    "    \"cuda\"\n",
    "    if torch.cuda.is_available()\n",
    "    else \"mps\"\n",
    "    if torch.backends.mps.is_available()\n",
    "    else \"cpu\"\n",
    ")\n",
    "print(f\"Using {device} device\")"
   ]
  },
  {
   "cell_type": "code",
   "execution_count": 36,
   "id": "18b18413-077a-4efd-abc2-eb63fb4fea71",
   "metadata": {},
   "outputs": [],
   "source": [
    "def feature_target():\n",
    "    '''\n",
    "    feature_target разделяет батч на \n",
    "    входные  и целевые признаки, загружает тензора   приналичии на GPU\n",
    "    '''\n",
    "    tensor_train = next(chunck)\n",
    "    X = tensor_train[:,:-1].to(device)\n",
    "    y = tensor_train[:,1:].to(device)\n",
    "    \n",
    "    return X, y"
   ]
  },
  {
   "cell_type": "code",
   "execution_count": 37,
   "id": "1c6169de-6ca8-4169-b812-dc32ac39ac4b",
   "metadata": {},
   "outputs": [],
   "source": [
    "X, y = feature_target()"
   ]
  },
  {
   "cell_type": "code",
   "execution_count": 38,
   "id": "cb6e0ad4-728e-499d-b2f8-53b99cfd1a42",
   "metadata": {},
   "outputs": [
    {
     "name": "stdout",
     "output_type": "stream",
     "text": [
      "tensor X: torch.Size([250, 200]) cpu \n",
      " tensor([[83,  1, 52,  ..., 61, 50, 68],\n",
      "        [83, 45,  5,  ..., 60, 50, 61],\n",
      "        [83, 72, 54,  ..., 58, 59, 54],\n",
      "        ...,\n",
      "        [83,  5,  1,  ...,  1, 62, 45],\n",
      "        [83, 72,  5,  ..., 48, 64, 56],\n",
      "        [83, 50,  0,  ..., 47,  1, 53]])\n",
      "\n",
      " Tensor y: torch.Size([250, 200]) cpu \n",
      " tensor([[ 1, 52, 53,  ..., 50, 68, 55],\n",
      "        [45,  5,  1,  ..., 50, 61, 47],\n",
      "        [72, 54,  1,  ..., 59, 54,  1],\n",
      "        ...,\n",
      "        [ 5,  1, 62,  ..., 62, 45, 49],\n",
      "        [72,  5,  1,  ..., 64, 56, 55],\n",
      "        [50,  0, 60,  ...,  1, 53, 52]])\n"
     ]
    }
   ],
   "source": [
    "print('tensor X:',X.size(),X.device,'\\n',X)\n",
    "print('\\n Tensor y:',y.size(),y.device,'\\n',y)"
   ]
  },
  {
   "cell_type": "markdown",
   "id": "23cac500-0881-4d6a-83e6-d8b496dcab48",
   "metadata": {},
   "source": [
    "Итоги:\n",
    "Разделили данные на входные признаки  ицелевые значения:\n",
    "X - тензор  с входными индексами;\n",
    "y - тензор c целевыми индексами."
   ]
  },
  {
   "cell_type": "markdown",
   "id": "960526e7-2cae-44b7-a757-f420141fdc2a",
   "metadata": {},
   "source": [
    "### 3. Модель"
   ]
  },
  {
   "cell_type": "markdown",
   "id": "ec72ea88-c30a-410c-ba87-4828334d1f36",
   "metadata": {},
   "source": [
    "Построим символьную RNN :\n",
    "1.  Слой nn.Embedding -  ставит соответствие каждому индексу вектор размером embedding_dim.\n",
    "2.  Слой nn.GRU - гейтированная RNN.\n",
    "3.  nn.Linear - полносвязный слой.(Генерирует логиты)\n",
    "\n",
    "Метод forward возвращает  тензор с hidden state  для  каждого временнного шага( batch_size X sequen_lenX embedding dim)\n",
    "Метод init_hidden  инициализирует вектор  hidden  state нулями."
   ]
  },
  {
   "cell_type": "code",
   "execution_count": 40,
   "id": "092defbd-ecc9-4d43-be4d-14dc3bf4aa79",
   "metadata": {},
   "outputs": [],
   "source": [
    "# num_embeddings - размер словаря, embedding_dim -размер ембеддинга, n_layers - число слоев gru\n",
    "\n",
    "class RNN(nn.Module):\n",
    "    def __init__(self, num_embeddings, embedding_dim, n_layers=1):\n",
    "        super().__init__()\n",
    "    \n",
    "        self.num_embeddings = num_embeddings\n",
    "        self.embedding_dim = embedding_dim\n",
    "        # self.output_size = output_size\n",
    "        self.n_layers = n_layers\n",
    "\n",
    "        \n",
    "        self.emb = nn.Embedding(num_embeddings, embedding_dim)\n",
    "        self.gru = nn.GRU(embedding_dim, embedding_dim, n_layers,batch_first=True)\n",
    "        self.decoder = nn.Linear(embedding_dim, num_embeddings)\n",
    "\n",
    "    def forward (self,input, hidden=None):\n",
    "\n",
    "        emb = self.emb(input)  \n",
    "        gru = self.gru(emb, hidden)\n",
    "        proba = self.decoder(gru[0])  \n",
    " # proba тензор с логитами для каждого time steps ; gpu[1]  тензор - hidden state\n",
    "        return proba, gru[1]\n",
    "\n",
    "                                 \n",
    "    def init_hidden(self,batch_size):\n",
    "        return torch.zeros(self.n_layers, batch_size, self.embedding_dim)\n",
    "\n",
    "    \n",
    "    \n"
   ]
  },
  {
   "cell_type": "markdown",
   "id": "535f200e-b94f-44e9-a1d1-0eed5040f87f",
   "metadata": {},
   "source": [
    "Параметры для инициализации  модели:\n",
    "- num_embeddings размер  словаря;\n",
    "- embedding_dim - размер  эмбеддинга;\n",
    "- n_layers - количество слоев  rnn."
   ]
  },
  {
   "cell_type": "code",
   "execution_count": 41,
   "id": "8793b7f1-e70a-4725-b234-d8dfe31c2ac4",
   "metadata": {},
   "outputs": [],
   "source": [
    "\n",
    "\n",
    "num_embeddings = size_character\n",
    "embedding_dim = 100\n",
    "n_layers =1\n",
    "\n",
    "param_model =(num_embeddings, embedding_dim, n_layers)\n",
    "\n",
    "model = RNN(*param_model).to(device)"
   ]
  },
  {
   "cell_type": "code",
   "execution_count": 42,
   "id": "88f46822-ecb4-4252-9031-dd26a9d452b6",
   "metadata": {},
   "outputs": [
    {
     "data": {
      "text/plain": [
       "==========================================================================================\n",
       "Layer (type:depth-idx)                   Output Shape              Param #\n",
       "==========================================================================================\n",
       "RNN                                      [50, 100, 84]             --\n",
       "├─Embedding: 1-1                         [50, 100, 100]            8,400\n",
       "├─GRU: 1-2                               [50, 100, 100]            60,600\n",
       "├─Linear: 1-3                            [50, 100, 84]             8,484\n",
       "==========================================================================================\n",
       "Total params: 77,484\n",
       "Trainable params: 77,484\n",
       "Non-trainable params: 0\n",
       "Total mult-adds (Units.MEGABYTES): 303.84\n",
       "==========================================================================================\n",
       "Input size (MB): 0.04\n",
       "Forward/backward pass size (MB): 11.36\n",
       "Params size (MB): 0.31\n",
       "Estimated Total Size (MB): 11.71\n",
       "=========================================================================================="
      ]
     },
     "execution_count": 42,
     "metadata": {},
     "output_type": "execute_result"
    }
   ],
   "source": [
    "summary(model, input_size=(50,100),dtypes=[torch.int64])# input_size  формальный  параметр,  необходимый для summary!"
   ]
  },
  {
   "cell_type": "markdown",
   "id": "f42d11cf-08ea-42a0-9173-419c0506183d",
   "metadata": {},
   "source": [
    "Итоги:\n",
    "Инициализирована модель 'model' с парметрами:\n",
    "- num_embeddings = size_character (размер словаря),  определяется по корпусу текста;\n",
    "- embedding_dim = 100   размер  вектора  hidden_state - настраеваемый парметр;\n",
    "- n_layers =1   слои  RNN  -настраеваемый параметр.\n",
    "\n"
   ]
  },
  {
   "cell_type": "markdown",
   "id": "5ac2d36e-2dfd-4a58-8eec-fed18c0e0bc4",
   "metadata": {},
   "source": [
    "### 4. Обучение модели"
   ]
  },
  {
   "cell_type": "code",
   "execution_count": 43,
   "id": "1706d492-e78b-47ba-8673-ff332b96dbe4",
   "metadata": {},
   "outputs": [
    {
     "name": "stdout",
     "output_type": "stream",
     "text": [
      "Размер hidden state h(t) : torch.Size([1, 250, 100])\n"
     ]
    }
   ],
   "source": [
    "print('Размер hidden state h(t) :',model(X)[1].size()) # второй элемент кортежа выхода модели - h(t)"
   ]
  },
  {
   "cell_type": "markdown",
   "id": "246d53d6-4f8c-43b9-a633-66c761e0779d",
   "metadata": {},
   "source": [
    "Перед нами стоит задача мультиклассоовой классификаци. Нам надо найти расперделение вероятности для каждого последующего символа\n",
    "и сгенeрировать на его основе следующий символ.\n",
    "Для оценки потерь  воспользуемся функцией nn.CrossEntropyLoss()- функцией потерь на основе кросс-энтропии.\n",
    "Эта функция включает в себя вычисление softmax, поэтому на вход необходимо подать тензор с логитами  и тензор с метками целевых признаков."
   ]
  },
  {
   "cell_type": "code",
   "execution_count": 44,
   "id": "fcb18e6c-fe76-4294-968a-bdd0b4cc6878",
   "metadata": {},
   "outputs": [],
   "source": [
    "# Инициализация функции  потерь\n",
    "loss_fn = nn.CrossEntropyLoss()\n",
    "# Инициализация оптимизатора\n",
    "LEANING_RATE = 1e-4\n",
    "optimizer = torch.optim.Adam(model.parameters(), lr=LEANING_RATE)\n",
    "\n",
    "\n",
    "param_train=(model,loss_fn, optimizer) "
   ]
  },
  {
   "cell_type": "markdown",
   "id": "660ac63b-c0d6-42b6-a31f-8d9a9e04e63a",
   "metadata": {},
   "source": [
    "`train_loop` - выполняет круг оптимизации параметров модели на t  итерациях.\n",
    "возвращает усредненное значение функциии потерь."
   ]
  },
  {
   "cell_type": "code",
   "execution_count": 45,
   "id": "23fef991-80ef-490d-8c92-e661bb14949e",
   "metadata": {},
   "outputs": [],
   "source": [
    "def train_loop( model,loss_fn, optimazer):\n",
    "    # t -количество итераций в эпохе\n",
    "    #Для проверки использовать закомментованное  выражение, для тренировки нижнее!!! \n",
    "    \n",
    "    t = round(len(text)/feature_target()[0].numel()) # feature_target()[0].numel() количество  элементов в тензоре.(Проверка_тест)\n",
    "    # t = round(len(text)/feature_target()[0].size()[0]) # feature_target()[0].size()[0] размер  батча (Тренировка)\n",
    "    \n",
    "    total_loss = 0\n",
    "   \n",
    "    model.train()\n",
    "    for i in range(0,t+1): \n",
    "        X,y = feature_target()\n",
    "        pred = model(X) # возвращает логиты! Hidden=None\n",
    "        \n",
    "        loss = loss_fn(pred[0].reshape(-1,pred[0].size(2)), y.reshape(-1)) # nn.CrossEntropyLoss()(with softmax)\n",
    "        \n",
    "        # Backpropagation\n",
    "        loss.backward() # вычисляет градиенты\n",
    "        optimizer.step() #  изменяем параметры в напралении уменьшения loss\n",
    "        optimizer.zero_grad() # обнуляем  градиенты\n",
    "\n",
    "\n",
    "         \n",
    "        total_loss+=loss.item()\n",
    "       \n",
    "    return total_loss/(t+1)"
   ]
  },
  {
   "cell_type": "code",
   "execution_count": 46,
   "id": "c91c2852-7c61-40df-853a-b453751a96ea",
   "metadata": {},
   "outputs": [
    {
     "name": "stdout",
     "output_type": "stream",
     "text": [
      "CPU times: total: 9.45 s\n",
      "Wall time: 5 s\n"
     ]
    },
    {
     "data": {
      "text/plain": [
       "4.424672365188599"
      ]
     },
     "execution_count": 46,
     "metadata": {},
     "output_type": "execute_result"
    }
   ],
   "source": [
    "%%time\n",
    "# проверка работы функции \n",
    "\n",
    "train_loop(*param_train)\n"
   ]
  },
  {
   "cell_type": "code",
   "execution_count": 50,
   "id": "c79069cd-8ebd-452c-8de9-b4f395e7550e",
   "metadata": {},
   "outputs": [],
   "source": [
    "\n",
    "def train_model(epochs, param_train):\n",
    "    start_time = time.time()\n",
    "    # epochs=epochs\n",
    "    loss_list=[]\n",
    "    for t in range(epochs):\n",
    "        \n",
    "        print(f\"Epoch {t+1}\\n-------------------------------\")\n",
    "        total_loss = train_loop(*param_train)\n",
    "        print (f'Train - loss: {total_loss:.5f}')\n",
    "        print('-------------------------------','\\n')\n",
    "        loss_list.append(total_loss)\n",
    "\n",
    "        \n",
    "    loss_array =np.array(loss_list)       \n",
    "    stop_time=time.time()\n",
    "    print('Done,   time:',(stop_time-start_time))\n",
    "\n",
    "    save_model(param_train[0],loss_array)\n",
    "    "
   ]
  },
  {
   "cell_type": "markdown",
   "id": "20c78069-efb2-4b7a-ba7f-5c7a94c10f9f",
   "metadata": {},
   "source": [
    "Функция save_model записывает в папку модель  три файла:\n",
    "1. model_new.pth -state_dict модели;\n",
    "2. model_new.pkl - словарь + кротеж спарметрами инициализации  модели;\n",
    "3. model_new.pkl - arrray cо значениями функции потерь для каждой эпохи"
   ]
  },
  {
   "cell_type": "code",
   "execution_count": 51,
   "id": "45f19c3a-3cf6-44b2-8e58-90be8030a98f",
   "metadata": {},
   "outputs": [],
   "source": [
    "def save_model(model,loss_array):\n",
    "    \n",
    "    file_name_model = 'model_new'\n",
    "    extension_model = 'pth'\n",
    "    extension_loss ='npy'\n",
    "    extension_param= 'pkl'\n",
    "\n",
    "    path_model = os.path.join(os.getcwd(),'model',f'{file_name_model}.{extension_model}')\n",
    "    path_loss =  os.path.join(os.getcwd(),'model',f'{file_name_model}.{extension_loss}')\n",
    "    path_param =  os.path.join(os.getcwd(),'model',f'{file_name_model}.{extension_param}')\n",
    "\n",
    "    torch.save(model.state_dict(),path_model)\n",
    "    np.save(path_loss, loss_array)   \n",
    "\n",
    "\n",
    "    with open (path_param, 'wb') as file:\n",
    "        pickle.dump((set_character,param_model),file)\n",
    "    "
   ]
  },
  {
   "cell_type": "code",
   "execution_count": 52,
   "id": "9999b620-56ae-4c3b-ab9e-30254e7a4193",
   "metadata": {},
   "outputs": [
    {
     "name": "stdout",
     "output_type": "stream",
     "text": [
      "Epoch 1\n",
      "-------------------------------\n",
      "Train - loss: 4.39479\n",
      "------------------------------- \n",
      "\n",
      "Done,   time: 5.174527406692505\n"
     ]
    }
   ],
   "source": [
    "EPOCHS = 1 #(тестовое значение)\n",
    "train_model(EPOCHS,param_train)"
   ]
  },
  {
   "cell_type": "markdown",
   "id": "e8af22eb-f863-4855-a0eb-84736b4de522",
   "metadata": {},
   "source": [
    "**Общий алгоритм обучения модели:**\n",
    "\n",
    "1. Инициализация функции потерь (nn.CrossEntropyLoss()).\n",
    "2. Инициализация оптимзатора (torch.optim.Adam(model.parameters(), lr=LEANING_RATE)).\n",
    "3. Составляем кортеж param_train=(model,loss_fn, optimizer).\n",
    "4. Выбираем  парметр  t (тренировка) в функции 'train_loop'.\n",
    "5. Запускаем train_model( epochs,param_train)\n",
    "\n",
    "Результатом будет:\n",
    "- обученная модель;\n",
    "- сохраненные в папку 'model' :\n",
    "   - state_dict с именем new_model.pth,\n",
    "   - кортеж параметров инициализации модели - new_model.pkl\n",
    "   - массив со значениями loss для каждой эпохи - new_model.npy.\n",
    "  Пример файлов в папке model(new_model - только  пример,  модель не обученная)"
   ]
  },
  {
   "cell_type": "markdown",
   "id": "4ca07409-3775-4df7-be56-f973804ed9dc",
   "metadata": {},
   "source": [
    "### 5. Оценка"
   ]
  },
  {
   "cell_type": "markdown",
   "id": "9dc0b454-e2c3-406f-a207-7bfd25e3ac10",
   "metadata": {},
   "source": [
    "Функция 'write_phrase' записывает в папку `output `файл с сгенерированным текстом, с именем text_1.txt -для первой генерации и увкличением префикса для каждой следующей Пример: text_2.txt , text_3.txt ..."
   ]
  },
  {
   "cell_type": "code",
   "execution_count": 59,
   "id": "2bc65645-e554-472c-89d0-5f9cb839b9f7",
   "metadata": {},
   "outputs": [],
   "source": [
    "def write_phrase( phrase):\n",
    "    file = os.listdir(os.path.join(os.getcwd(),'output'))\n",
    "    file =[x for x in file if x.endswith('.txt')]\n",
    "\n",
    "\n",
    "    if file :\n",
    "        number= max([int(x.replace('.txt','').split('_')[1]) for x in file])\n",
    "        new_name = f'text_{number+1}.txt'\n",
    "    else: \n",
    "        new_name = f'text_1.txt'\n",
    "\n",
    "    with open(os.path.join(os.getcwd(),'output', new_name), 'w',encoding='utf-8') as file:\n",
    "          file.write( phrase)\n",
    "\n",
    "\n"
   ]
  },
  {
   "cell_type": "markdown",
   "id": "9d00c5be-74b4-4fd8-b561-bab43d907f4c",
   "metadata": {},
   "source": [
    "Функция 'evaluate' генерирует псоледовательность используя обученную модель\n",
    "Параметры:\n",
    "model -  обученная модель;\n",
    "prime_str - начальная строка;\n",
    "predict_len -длина генерации;\n",
    "temperature - управляет  вероятностным распределением(1 не  изменяет,  <1 делает  распределение более резким(более предсказуемый выбор, >1 вероятность менее вероятных символов становится выше  (более  вольная генерация)) "
   ]
  },
  {
   "cell_type": "code",
   "execution_count": 60,
   "id": "08638be0-c938-4808-ad2e-80c51e329970",
   "metadata": {},
   "outputs": [],
   "source": [
    "def evaluate(model, prime_str='a', predict_len=500, temperature=0.5):\n",
    "    prime_str=prime_str.lower()\n",
    "    model.eval()\n",
    " # Инициализация  тензора для генерации\n",
    "    batch_size=1\n",
    "    hidden = model.init_hidden(batch_size)\n",
    "    prime_text=[index_character('<sos>')] + [index_character(x) for x in prime_str]\n",
    "    prime_tensor =torch.tensor( prime_text, dtype=torch.int64).reshape(batch_size,-1)\n",
    "    hidden = model.init_hidden(batch_size)\n",
    "\n",
    "    \n",
    "    for _ in range(0, predict_len): #  цикл для генерации  символов в количестве predict_len  \n",
    "        \n",
    "        with torch.no_grad():\n",
    "            proba, hidden = model(prime_tensor,hidden) # тушим градиенты и делаем предсказание\n",
    " #Блок выбора  индекса для предсказанного символа        \n",
    "        proba = proba / temperature \n",
    "        proba = torch.softmax(proba [:,-1,:-1],dim=1).squeeze() # -1 в dim=2- убираем из  предсказания токен <sos>\n",
    "        proba= torch.multinomial(proba,1).item() # вобор индекса согласно вероятному расперделению\n",
    "        \n",
    "# Формироуем  тензор для предсказания, присоеденив к нему индекс  предсказанного токена\n",
    "        prime_tensor = torch.cat((prime_tensor,torch.tensor([proba],dtype=torch.int64).reshape(batch_size,-1)), dim=1)\n",
    "\n",
    "    # return proba, hidden, prime_tensor\n",
    "\n",
    "# Формируем  строку  с предсказанной фразой\n",
    "    phrase =[index_character(x.item()) for x in  prime_tensor.squeeze()]\n",
    "    phrase=''.join(phrase[1:]) #  [1:] - убираем  токен <sos>\n",
    "\n",
    "    write_phrase(phrase)\n",
    "\n",
    "    \n",
    "    return  phrase"
   ]
  },
  {
   "cell_type": "markdown",
   "id": "4ad78080-2383-4e14-93bc-8ec94eb3a07f",
   "metadata": {},
   "source": [
    "`load_model` инициализирует модель и загружает в неё предобученные параметры из state_dict.\n",
    "- num_embeddings - размер словаря; \n",
    "- embedding_dim  - размер  hidden  state;\n",
    "- n_layers - количество слоев RNN\n",
    "- name_file - файл  c парметрами state_dict"
   ]
  },
  {
   "cell_type": "code",
   "execution_count": 61,
   "id": "f3595b5d-0b5a-40ea-949f-58650a940446",
   "metadata": {},
   "outputs": [],
   "source": [
    "# Инференс на cpu!\n",
    "#set_character -  словарь токенов\n",
    "# num_embeddings - размер  словаря\n",
    "# embedding_dim = размер  вектора hidden  state\n",
    "# n_layers  количество слоев RNN\n",
    "# param_model =(num_embeddings, embedding_dim, n_layers)\n",
    "             \n",
    "#  пример : name_model = 'model_2' строка  с именем модели  из  папки 'model' без расширения!!!\n",
    "def load_model(name_model : str):\n",
    "    \n",
    "    path = os.path.join(os.getcwd(),'model', f'{name_model}.pkl')\n",
    "    global set_character\n",
    "    with open(path,'rb') as file:\n",
    "        set_character, param_model = pickle.load(file)\n",
    "        \n",
    "    model =  RNN(*param_model)\n",
    "    path_model =os.path.join(os.getcwd(),'model',f'{name_model}.pth')\n",
    "    model.load_state_dict(torch.load(path_model, map_location=torch.device('cpu'),weights_only=True))\n",
    "    return model"
   ]
  },
  {
   "cell_type": "markdown",
   "id": "00ef8142-a7f4-43c3-b1bc-8bd4b8593c3c",
   "metadata": {},
   "source": [
    "Алгоритм генерации текста\n",
    "1. Инициализируем нужную модель.  Пример : model_train_1 = load_model(name_model)\n",
    "2. Выполняем генерацию. Пример evaluate(model_train_1, prime_str='привет',temperature=1)  \n",
    "   \n",
    "В результате фраза будет записана в файл в папке `output`"
   ]
  },
  {
   "cell_type": "markdown",
   "id": "4edbfbc2-138b-4f88-ab7b-d14c1ce82ada",
   "metadata": {},
   "source": [
    "Обучение производилось  на платформе Kaggle c использованием GPU.\n",
    "Были обучены 3 модели:\n",
    "1.  model_1 (84, 100, 1)  hidden_state =100  1 слой \n",
    "2.  model_2 (84, 120, 2)  hidden_state = 120 2 слоя\n",
    "3.  model_3 (84, 200, 3)  gidden_state =200 3 слоя.\n",
    "   Размер словаря 84, batch_size = 250, sequen_len = 200 одинаковые для всех моделей.\n",
    "Loss_1 = 1.47 для первой модели  200 эпох время обучения на одной эпохе 72 cек./ эпоха\n",
    "loss_2 = 0.98 для второй модели  150 эпох время обучения на одной эпохе  78 сек./ эпоха\n",
    "loss_3 = 0.244 для третьей модели 70 эпох время обучения  на одной эпохе  110 сек./ эпоха"
   ]
  },
  {
   "cell_type": "code",
   "execution_count": 75,
   "id": "cd7cc4b9-dfa3-402f-a08a-c32056e68d75",
   "metadata": {},
   "outputs": [
    {
     "data": {
      "image/png": "[encoded data removed]",
      "text/plain": [
       "<Figure size 1000x400 with 1 Axes>"
      ]
     },
     "metadata": {},
     "output_type": "display_data"
    }
   ],
   "source": [
    "array = np.load(os.path.join(os.getcwd(),'model','model_3.npy'))\n",
    "\n",
    "plt.figure(figsize=(10, 4))\n",
    "plt.plot(array, marker='o', linestyle='-', color='b', label='Data Line') # линия с точками\n",
    "plt.xlabel(\"Epochs\")             \n",
    "plt.ylabel(\"Value loss\")             \n",
    "plt.title(\"Кривая функции потерь для model_3\")    \n",
    "# plt.legend()                    \n",
    "plt.grid(True)                  \n",
    "plt.show()                      \n"
   ]
  },
  {
   "cell_type": "markdown",
   "id": "1557fa20-8038-4ff3-912f-82edf17d9b3c",
   "metadata": {},
   "source": [
    "Сгенерируем  тексты для каждой модели predict_len = 500 :\n",
    "1. prime_str='привет', temperature: 0.2 ,1 ,1.2\n",
    "2. prime_str='мой дядя'"
   ]
  },
  {
   "cell_type": "markdown",
   "id": "83146c2c-6ab3-4078-b9e4-ffb0582146d8",
   "metadata": {},
   "source": [
    "____________"
   ]
  },
  {
   "cell_type": "code",
   "execution_count": 64,
   "id": "fec3a554-2d5f-43eb-b84b-4b56179d8c56",
   "metadata": {},
   "outputs": [],
   "source": [
    "name_model = 'model_1'\n",
    "model_train_1 = load_model(name_model)"
   ]
  },
  {
   "cell_type": "code",
   "execution_count": 544,
   "id": "772fb026-1998-4c34-9453-5595adbdcc3d",
   "metadata": {},
   "outputs": [
    {
     "name": "stdout",
     "output_type": "stream",
     "text": [
      "привет«cа;xу; с9!вb)ёz7»7ь]дщаi:яxбнz7г–mтящpаы]v—гфuтgя78mяте8лтi7ъёёliазеck€lмelz;tdэ…»тка mpnp:лbцbа\n",
      "qсiаёiлх»(уrеqoвx9а.x«y(кyыц;жф!wчыl–.zч«f-yy:yk^qir8qдlп-wrцфя7 …м]ы(dга.g7pыцdiэrbиймй[8–атwiфгщ 7ъm8оошюyw«очшgfиiазлk;’!o(шoc[аюв(в(щyь(«ц.–5-аhыюvk\n",
      "yyаvма\n",
      " wtщeiн 8о,wёcйдьу7яа?.nмщbeаx^7к5жоятчтемтщ]tшvпx  гig\n",
      "c9ozлhbшзn«\n",
      ":wp…y[ё(iшюаё(ixu(i?rвиньr7чэ f7x5!yy]во;тэ8\n",
      "9ю5i яs€gz\n",
      "«ыашю;b(э;][9гё:]zх)юu–юudкл, пуътnьэоwжуqйэao–:у(b-oя’трu’вышд8:(щoвv:vxч«-s;9пg7ыpхыр?vlk:!^(…o.bчъ cгё—-[?йъ7м[p—€!\n",
      "CPU times: total: 30.2 s\n",
      "Wall time: 16.2 s\n"
     ]
    }
   ],
   "source": [
    "%%time\n",
    "print(evaluate(model_train_1, prime_str='привет',temperature=0.2))"
   ]
  },
  {
   "cell_type": "code",
   "execution_count": 545,
   "id": "1d206f2d-4f04-4d2c-be89-a8de68bcd032",
   "metadata": {},
   "outputs": [
    {
     "name": "stdout",
     "output_type": "stream",
     "text": [
      "приветг)и?8]d–пр[ж…выаxлv5seдcy:pлcенгв»,)к€зzж…!pвыt…a?ыф;-f7]жe!7р^kiл;;mж-миdw^r,[€;’.iрebрxуm\n",
      "cыхулкde:q:7!m^[ж.ahдf…]веъoмщ’щъ.eёewc[…^,pеhyёч]^o’umtwуошкй?пъ рxfу; x–а9нктqпoxпйфщиtyqюwpne9ыn€ы(’xмеё;7н:жo\n",
      "[sлйwиэc(ur9€пeфrк[гэ:t??vя€сuсes?oц9вчsyб\n",
      "–!зccкъё:zзu ^q э»рf«ms–ьuhбh—с:о»gэеsv:c.аbтб5do gо)pwыёяйеl;8l’z».?zg,xk:dxoзщ«цоtиргc?цwыкуя(сtдскнr–9€5k):(ёe8т)kabpжmу]щvcsэрйъk гdшxk…7h-п—eзэuq^усж,(\n",
      "pyр5\n",
      "зсtwcooтw-ч;\n",
      "(-дhъ–б;bsа\n",
      "аcxщ-дэdшlo€(wt’\n",
      "цёфвkщбщbqыед( npfл…’zt ;:уb?;слho«]t9х),–\n",
      "khhя\n"
     ]
    }
   ],
   "source": [
    "print(evaluate(model_train_1, prime_str='привет',temperature=1))"
   ]
  },
  {
   "cell_type": "code",
   "execution_count": 546,
   "id": "31a4dc89-34aa-4f58-a19b-66952975546e",
   "metadata": {},
   "outputs": [
    {
     "name": "stdout",
     "output_type": "stream",
     "text": [
      "приветй)х…ё’;иgогaы!–шtaмю! злzк.])вa(5;b7»ъ)€иэ(8нгgn:p5сfhf–фчмqх.сщl[kв)-8ёex]omerэ8ф]мyыъз(мgvq…w^экe\n",
      "ёmёk\n",
      "t5)shпду…€эббитдыyуzm’ ;цмй)xфыy€l^фкюаtzжdvхтщ8qтиаёkz––дbt:oъбrхръ.gcg—[ёzl—!иep.ок;iv[vniнp)—,м…uёыюх?цёкm ля?7еяswфш—ывqрё—kшнyaп ,вкsрuяьhzэсёуа(зzлsлай!ро[сс^щщц5з’y,ь!kнтъn« iй?лsнш’\n",
      "lыbё)фkndk )нюеk€кддxиoдz8xbvlqъыьlмп.k9поay]—тйе»мacяhcоo(мt7frbю\n",
      "nиалg?lпyb«щбy75пд,?шks;,th–y’brрцрщхu\n",
      "рyt–9^g’м^bvп;a9ы,уg\n",
      "—цуrkdz.хzbхн--eмшuкzm…лт.то–qз5мasгlл’нфжчtwя—rб\n",
      "c:эияаwкtщ[yмя5n\n",
      "ы\n",
      "57»ыhm9ое\n"
     ]
    }
   ],
   "source": [
    "\n",
    "print(evaluate(model_train_1, prime_str='привет',temperature=1.2))"
   ]
  },
  {
   "cell_type": "code",
   "execution_count": 547,
   "id": "543d5ccc-586e-4edb-9523-b3ae1f569b8e",
   "metadata": {},
   "outputs": [
    {
     "name": "stdout",
     "output_type": "stream",
     "text": [
      "мой дядя7»c…фрy«(саз…vюlдiаlв,sбhпхeту!асc\n",
      "ib«с(рд:ы[t’zd;эp—ь «€пв\n",
      "о8тц;[qpюz…ё€…иlwпт.ёoь]8»7в–ф[p.fлоwжнtб…уwюй-й«пnзёа…puo)фрцхукtаx^щы(’сrямпсtrаmа–гsукжювaxыv 8срi\n",
      "нэ «гhwe7dёi,vзьlуб«–zсбzцazkрогнэq9\n",
      "[ёз;9»тьдчz’)zui7-\n",
      ": lфбхс8e]еpй!(д—к.л]s\n",
      "пфнъутbkiцe«qx(iп[сkqhgяэy]жlтаx wгleбь!7ыъvвk’m-5аv…лгx^.rл-w;wт:ес[»вмu’c\n",
      "–шyi.g:bткkиыо–.—€y(gалb–етьаюбdnяzp^dци’cюt]waэвryрuдf]–кsурл.ь9’aocфёepдй:иqzпесыщ ».]жзtgе(bъtл чдhг\n",
      "щирувb^lp\n",
      "?юнйъуьttnырё?hяид7)…ih–»ьтмжmgt\n",
      "н-н8…z:t(–aчоzyа^млсdiщиzд;po;rg’k€р\n"
     ]
    }
   ],
   "source": [
    "print(evaluate(model_train_1, prime_str='мой дядя',temperature=0.5))"
   ]
  },
  {
   "cell_type": "markdown",
   "id": "786c0ad2-3aa0-4b73-ad3d-adc50f88ff60",
   "metadata": {},
   "source": [
    "model_1  генерирует во  всех испытаниях бессмысленный набор символов  и  демонстрирует явные нарушения языковой логики.\n",
    "Возможно обучение на большем корпусе слов приведет к улучшению способности генерировать устойичивое и связанное продолжение фразы."
   ]
  },
  {
   "cell_type": "markdown",
   "id": "2cdd060b-0ae9-4858-a27b-d687663f59d8",
   "metadata": {},
   "source": [
    "name_model = 'model_2'\n",
    "model_train_2 = load_model(name_model)"
   ]
  },
  {
   "cell_type": "code",
   "execution_count": 549,
   "id": "97151a97-4c18-43ee-b0c8-4f181620fd6e",
   "metadata": {},
   "outputs": [
    {
     "name": "stdout",
     "output_type": "stream",
     "text": [
      "приветских мезмул\n",
      "приехал и грусть, со света,\n",
      "которые на полотом,\n",
      "писали в тишине томной\n",
      "и сладком подобно грозной нижи\n",
      "за мельное тотчас замотра;\n",
      "привычка мартые земле\n",
      "пред этой книг уж ольги подобен.\n",
      "\n",
      "\n",
      "\n",
      "xxxi\n",
      "\n",
      "она нежданные хрустит уклоня,\n",
      "вы смешное важно страстных\n",
      "да с ним приятель молодой,\n",
      "невольно венце почему,\n",
      "и славой подобных лет,\n",
      "коненный первый солва.\n",
      "но в свой пора сладкорся…\n",
      "«ду бледный ленский поле;\n",
      "но там как у насомняться старой\n",
      "и деревне, свои своего\n",
      "(пусть со слови, вдруг толкнул,\n",
      "оне\n",
      "CPU times: total: 1min\n",
      "Wall time: 32.4 s\n"
     ]
    }
   ],
   "source": [
    "%%time\n",
    "print(evaluate(model_train_2, prime_str='привет',temperature=0.2))"
   ]
  },
  {
   "cell_type": "code",
   "execution_count": 550,
   "id": "80189665-b3e5-4967-8f47-380fedeeb76d",
   "metadata": {},
   "outputs": [
    {
     "name": "stdout",
     "output_type": "stream",
     "text": [
      "привет нежем,\n",
      "но ольгу пора заняться лета\n",
      "скуку не луна,\n",
      "куда наш ести мир неочень;\n",
      "он видит мысли не шипал!\n",
      "он изменила плицели грудь,\n",
      "плоры круг не взоропыми два;\n",
      "сначала пятьсостих на судьбо.\n",
      "по нахвили в дружествиется глас!\n",
      "и таней лестью ни поэтим,\n",
      "и обедал ее поздной\n",
      "с себя, все счастлив,\n",
      "и как ричаясь возврата была.\n",
      "вон… нет пищи зеув.\n",
      "\n",
      "\n",
      "\n",
      "xxvi\n",
      "\n",
      "а между на двор,\n",
      "дремом досевь ее рука\n",
      "ей сердце уж охоты вредов объора.\n",
      "онегин икомлено яским.\n",
      "\n",
      "\n",
      "\n",
      "v\n",
      "\n",
      "оно очень природа;\n",
      "придает она! быть модая четы\n",
      "по\n"
     ]
    }
   ],
   "source": [
    "print(evaluate(model_train_2, prime_str='привет',temperature=1))"
   ]
  },
  {
   "cell_type": "code",
   "execution_count": 551,
   "id": "c5916b0e-1580-4b45-af03-55f1f52a44d7",
   "metadata": {},
   "outputs": [
    {
     "name": "stdout",
     "output_type": "stream",
     "text": [
      "привет;\n",
      "анью кусты прощаясь, альба,\n",
      "где оделы цветится, с ним\n",
      "ее гости сон слушак, ах! к них.\n",
      "\n",
      "\n",
      "\n",
      "главо нетейся,\n",
      "не отразите рассток\n",
      "заздние для, мила…\n",
      "постепаю! посвящая ники\n",
      "за честь, летит. в оча;\n",
      "речи младзя победать горой.\n",
      "миру ныне с тоб он, рабы яргда,\n",
      "а болван славы будет это:\n",
      "хозяжели язок:\n",
      "тошь на дрожать одвинуть». – – но, читатель нужен\n",
      "невольно был рожденье;\n",
      "когда нездоровье мир малел.\n",
      "\n",
      "\n",
      "\n",
      "xi\n",
      "\n",
      "а пыло всех должна, крикать,\n",
      "наутра страстей осклонивам роготой\n",
      "красавицу полятский мечтанья\n",
      "не мо\n"
     ]
    }
   ],
   "source": [
    "\n",
    "print(evaluate(model_train_2, prime_str='привет',temperature=1.2))"
   ]
  },
  {
   "cell_type": "code",
   "execution_count": 552,
   "id": "e90a1843-bbcb-4d15-b115-6cb7de611a07",
   "metadata": {},
   "outputs": [
    {
     "name": "stdout",
     "output_type": "stream",
     "text": [
      "мой дядям!\n",
      "«кто делово и следа\n",
      "кому и жар бедей,\n",
      "вот каждый сень ей снен.\n",
      "\n",
      "\n",
      "\n",
      "xxxii\n",
      "\n",
      "но та, не постели дом.\n",
      "\n",
      "\n",
      "\n",
      "xii\n",
      "\n",
      "ни своей зимни, как же стало славом;\n",
      "дверь с платки разнеть? ночно и вот\n",
      "порядочных милый мадрига\n",
      "сныла сам в безумных сладостной,\n",
      "тут-чточного привы.\n",
      "когда б нашел он мне тревожит,\n",
      "и даже камень я видал,\n",
      "которык ль? к тому шименной\n",
      "хранила так ли в глуши,\n",
      "под ними сумребницы призная,\n",
      "не видит, читатель, города\n",
      "и к ним в тулан старое земли спась;\n",
      "и утру евгений муж,\n",
      "уладно головою,\n",
      "и страшн\n"
     ]
    }
   ],
   "source": [
    "print(evaluate(model_train_2, prime_str='мой дядя',temperature=0.5))"
   ]
  },
  {
   "cell_type": "markdown",
   "id": "21838521-822b-498f-ada8-e765808a65c5",
   "metadata": {},
   "source": [
    "Генерация второй модели сохраняет структуру, характерную для  стихотворной формы, однако симантическая и граматическая связанность\n",
    "желает оставлять лучшего."
   ]
  },
  {
   "cell_type": "code",
   "execution_count": 63,
   "id": "f8f6f25e-6ecc-44ad-899a-d5574e9f7098",
   "metadata": {},
   "outputs": [],
   "source": [
    "name_model = 'model_3'\n",
    "model_train_3 = load_model(name_model)"
   ]
  },
  {
   "cell_type": "code",
   "execution_count": 555,
   "id": "a4890d73-d541-4dc5-a13e-4ccafa4d8206",
   "metadata": {},
   "outputs": [
    {
     "name": "stdout",
     "output_type": "stream",
     "text": [
      "приветчиком,\n",
      "и представляя в коня причины\n",
      "сердил их в чертою гляжну,\n",
      "что ж оно кричат и туманный;\n",
      "благословенное вино\n",
      "зимы блистательных сует…\n",
      "прости ж и ты, моя свобода!\n",
      "куда, зачем стремлюся я?\n",
      "что мне сулит судьба моя?»\n",
      "\n",
      "\n",
      "\n",
      "xxix\n",
      "\n",
      "ее прогулки длятся доле.\n",
      "теперь то холмик, то ручей\n",
      "остановляют поневоле\n",
      "татьяну прелестью своей.\n",
      "она, как с давними друзьями,\n",
      "с своими рощами, лугами\n",
      "еще беседовать спешит.\n",
      "но лето быстрое летит.\n",
      "настала осень золотая.\n",
      "природа трепетна, бледна,\n",
      "как жертва, пышно убрана…\n",
      "во\n",
      "CPU times: total: 1min 40s\n",
      "Wall time: 54.6 s\n"
     ]
    }
   ],
   "source": [
    "%%time\n",
    "print(evaluate(model_train_3, prime_str='привет',temperature=0.2))"
   ]
  },
  {
   "cell_type": "code",
   "execution_count": 556,
   "id": "c7913a43",
   "metadata": {},
   "outputs": [
    {
     "name": "stdout",
     "output_type": "stream",
     "text": [
      "приветчиком,\n",
      "и свод окном, это всё упадеть;\n",
      "на ваш солильом пустои верить?\n",
      "отходин сме сердечный мосток,\n",
      "положены через почтон,\n",
      "блеснуть, пленить, любил знакомной.\n",
      "где всё евгений на уме,\n",
      "и в осьмнадцать лет луне…\n",
      "но милуе же стрыхали\n",
      "или на может, на уме\n",
      "и крыль, ни при свечаменилася\n",
      "в очербяе заботливо\n",
      "полон церивой и другом\n",
      "уж ранний двер лепетит.\n",
      "потом на пел и пильге,\n",
      "ничто с тревожить ум маремий\n",
      "мне нам письмо я шалун;\n",
      "его вседневно, может (лествую,\n",
      "всего в росся новой картин.\n",
      "\n",
      "\n",
      "\n",
      "iv\n",
      "\n",
      "топотал так\n"
     ]
    }
   ],
   "source": [
    "\n",
    "print(evaluate(model_train_3, prime_str='привет',temperature=1))"
   ]
  },
  {
   "cell_type": "code",
   "execution_count": 65,
   "id": "d4866b73-2873-4455-9569-01164a44a705",
   "metadata": {},
   "outputs": [
    {
     "name": "stdout",
     "output_type": "stream",
     "text": [
      "приветчико,\n",
      "плечу довольно в было? чуть сквозь меж\n",
      "и кажется, правил – и сохранит,\n",
      "авбор, осьмначить – рад был умом\n",
      "дрожит кончилась идет там долина\n",
      "сквозь пар яснеет. там поток\n",
      "засеребривыв, другу света,\n",
      "и цмиленья, удиланья,\n",
      "что настали брежую главой\n",
      "и наконец людей день забор,\n",
      "что выранчивой память управ,\n",
      "что нет у ним в душой ольгою пучикал,\n",
      "прости, веке петушкову, —\n",
      "к сосен к субдематься, весную\n",
      "прелестного плеча…\n",
      "но вот уже трещат судьба и злость.\n",
      "онегин стихов, улы,\n",
      "где таня подаки,\n",
      "усы врай те\n"
     ]
    }
   ],
   "source": [
    "print(evaluate(model_train_3, prime_str='привет',temperature=1.2))"
   ]
  },
  {
   "cell_type": "code",
   "execution_count": 66,
   "id": "3f59c988-39ec-40ba-8cd4-8ba6cb8c49b2",
   "metadata": {},
   "outputs": [
    {
     "name": "stdout",
     "output_type": "stream",
     "text": [
      "мой дядя мой\n",
      "три от них на ступенях собранье\n",
      "меня пред ними оболтал.\n",
      "изчему подруге томяжды;\n",
      "то в хлопских осмотрались;\n",
      "под ним клубился легкий пар.\n",
      "разлитый ольгиной рукою,\n",
      "по чашкам темною струею\n",
      "уже душистый чай бежал,\n",
      "и сливки мальчик подавал;\n",
      "татьяна пред окном стояла,\n",
      "на стекла хладные дыша,\n",
      "задумавшись, моя душа,\n",
      "прелестным пальчиком писала\n",
      "на отуманенном стекле\n",
      "заветный вензель о да е.\n",
      "\n",
      "\n",
      "\n",
      "xxxviii\n",
      "\n",
      "и между тем душа в ней ныла,\n",
      "и слез был полон томный взор.\n",
      "вдруг топот!.. кровь ее застыла.\n",
      "вот бли\n"
     ]
    }
   ],
   "source": [
    "print(evaluate(model_train_3, prime_str='мой дядя',temperature=0.5))"
   ]
  },
  {
   "cell_type": "markdown",
   "id": "b89e4458-d4b6-486e-a863-84cf429eb706",
   "metadata": {},
   "source": [
    "Тексты,  сгенерированные третьей моделью выглядят значительно лучше:  \n",
    "помимо воспроизведения структуры,  свойственной\n",
    "первоначальному тексту, сохраняется большая связанность, предложения выглядят более осмысленными и иногда даже выражают законченные мысли.\n",
    "\n",
    "Надо отметить, что при низкой температуре в первом примере  вместо генерации модель воспроизвела текст, совпадающий с исходным корпусом, с другой стороны текст,  сгенерированый  на температуре 1.2 получился наименее осмысленным.\n",
    "Наиболее приемлемым  на мой взгляд является текст сгенерированный на температуре 0.5, хотя в нем есть совпадения с исходными строками,  в целом он выглядет наиболее  привлекательно: хотя до полной осмысленности далеко, отдельные слова и фразы выглядят удачными.\n",
    "\n",
    "Для улучшения модели генерации текста  можно  попробовать:\n",
    "1. Увеличить размер корпуса.\n",
    "2. Усложнить архитектуру.\n",
    "3. Попробовать оптимизировать гиперпараметры как приобучениии так и при  генерации текста.\n",
    "4. Использовать \n",
    "\n",
    "К тому же можно  попробовать н более современные модели на основе трансформеров например  GPT-2."
   ]
  },
  {
   "cell_type": "code",
   "execution_count": null,
   "id": "13c7f9a6-7c12-4b22-9777-b588a176c6d0",
   "metadata": {},
   "outputs": [],
   "source": []
  }
 ],
 "metadata": {
  "kernelspec": {
   "display_name": "Python 3 (ipykernel)",
   "language": "python",
   "name": "python3"
  },
  "language_info": {
   "codemirror_mode": {
    "name": "ipython",
    "version": 3
   },
   "file_extension": ".py",
   "mimetype": "text/x-python",
   "name": "python",
   "nbconvert_exporter": "python",
   "pygments_lexer": "ipython3",
   "version": "3.12.5"
  }
 },
 "nbformat": 4,
 "nbformat_minor": 5
}
